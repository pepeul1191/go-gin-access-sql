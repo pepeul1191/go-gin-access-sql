{
 "cells": [
  {
   "cell_type": "markdown",
   "metadata": {},
   "source": [
    "# Generación de datos de prueba\n",
    "\n",
    "Importaciones globales"
   ]
  },
  {
   "cell_type": "code",
   "execution_count": 1,
   "metadata": {},
   "outputs": [],
   "source": [
    "from faker import Faker\n",
    "import random\n",
    "import datetime"
   ]
  },
  {
   "cell_type": "markdown",
   "metadata": {},
   "source": [
    "Crear datos de prueba para 'systems'"
   ]
  },
  {
   "cell_type": "code",
   "execution_count": 2,
   "metadata": {},
   "outputs": [
    {
     "name": "stdout",
     "output_type": "stream",
     "text": [
      "Generación de registros completada. Archivo 'insert_systems.sql' creado.\n"
     ]
    }
   ],
   "source": [
    "# Crear una instancia de Faker\n",
    "fake = Faker()\n",
    "# Definir una lista para almacenar las sentencias INSERT\n",
    "inserts = []\n",
    "# Generar 200 registros\n",
    "for _ in range(200):\n",
    "    # Generar datos ficticios\n",
    "    name = fake.company()  # Genera un nombre de empresa\n",
    "    description = fake.text(max_nb_chars=200)  # Descripción aleatoria de hasta 200 caracteres\n",
    "    repository = fake.url()  # URL aleatoria (por ejemplo, un repositorio)\n",
    "    created = fake.date_time_this_decade(before_now=True, after_now=False)  # Fecha de creación aleatoria\n",
    "    updated = created + datetime.timedelta(days=random.randint(1, 30))  # Fecha de actualización (al menos un día después de la creación)\n",
    "    # Formatear los valores a SQL\n",
    "    insert_statement = f\"INSERT INTO systems (name, description, repository, created, updated) VALUES ('{name}', '{description}', '{repository}', '{created.strftime('%Y-%m-%d %H:%M:%S')}', '{updated.strftime('%Y-%m-%d %H:%M:%S')}');\"\n",
    "    inserts.append(insert_statement)\n",
    "# Escribir todas las sentencias INSERT en un archivo SQL\n",
    "with open(\"insert_systems.sql\", \"w\") as f:\n",
    "    f.write(\"\\n\".join(inserts))\n",
    "print(\"Generación de registros completada. Archivo 'insert_systems.sql' creado.\")"
   ]
  }
 ],
 "metadata": {
  "kernelspec": {
   "display_name": "env",
   "language": "python",
   "name": "python3"
  },
  "language_info": {
   "codemirror_mode": {
    "name": "ipython",
    "version": 3
   },
   "file_extension": ".py",
   "mimetype": "text/x-python",
   "name": "python",
   "nbconvert_exporter": "python",
   "pygments_lexer": "ipython3",
   "version": "3.10.12"
  }
 },
 "nbformat": 4,
 "nbformat_minor": 2
}
