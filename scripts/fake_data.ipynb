{
 "cells": [
  {
   "cell_type": "markdown",
   "metadata": {},
   "source": [
    "# Generación de datos de prueba\n",
    "\n",
    "Importaciones globales"
   ]
  },
  {
   "cell_type": "code",
   "execution_count": 3,
   "metadata": {},
   "outputs": [],
   "source": [
    "from faker import Faker\n",
    "import random\n",
    "import datetime"
   ]
  },
  {
   "cell_type": "markdown",
   "metadata": {},
   "source": [
    "Crear datos de prueba para 'systems'"
   ]
  },
  {
   "cell_type": "code",
   "execution_count": 5,
   "metadata": {},
   "outputs": [
    {
     "name": "stdout",
     "output_type": "stream",
     "text": [
      "Generación de registros completada. Archivo 'insert_systems.sql' creado.\n"
     ]
    }
   ],
   "source": [
    "# Crear una instancia de Faker\n",
    "fake = Faker()\n",
    "# Definir una lista para almacenar las sentencias INSERT\n",
    "inserts = []\n",
    "# Generar 200 registros\n",
    "id = 1\n",
    "for _ in range(200):\n",
    "    # Generar datos ficticios\n",
    "    name = fake.company()  # Genera un nombre de empresa\n",
    "    description = fake.text(max_nb_chars=200)  # Descripción aleatoria de hasta 200 caracteres\n",
    "    repository = fake.url()  # URL aleatoria (por ejemplo, un repositorio)\n",
    "    created = fake.date_time_this_decade(before_now=True, after_now=False)  # Fecha de creación aleatoria\n",
    "    updated = created + datetime.timedelta(days=random.randint(1, 30))  # Fecha de actualización (al menos un día después de la creación)\n",
    "    # Formatear los valores a SQL\n",
    "    insert_statement = f\"INSERT INTO systems (id, name, description, repository, created, updated) VALUES ({id}, '{name}', '{description}', '{repository}', '{created.strftime('%Y-%m-%d %H:%M:%S')}', '{updated.strftime('%Y-%m-%d %H:%M:%S')}');\"\n",
    "    inserts.append(insert_statement)\n",
    "    id = id + 1\n",
    "# Escribir todas las sentencias INSERT en un archivo SQL\n",
    "with open(\"insert_systems.sql\", \"w\") as f:\n",
    "    f.write(\"\\n\".join(inserts))\n",
    "print(\"Generación de registros completada. Archivo 'insert_systems.sql' creado.\")"
   ]
  },
  {
   "cell_type": "markdown",
   "metadata": {},
   "source": [
    "Crer datos de prueba para 'users'"
   ]
  },
  {
   "cell_type": "code",
   "execution_count": 4,
   "metadata": {},
   "outputs": [
    {
     "name": "stdout",
     "output_type": "stream",
     "text": [
      "Generación de registros completada. Archivo 'insert_users.sql' creado.\n"
     ]
    }
   ],
   "source": [
    "# Crear una instancia de Faker\n",
    "fake = Faker()\n",
    "# Definir una lista para almacenar las sentencias INSERT\n",
    "inserts = []\n",
    "characters = 'ABCDEFGHIJKLMNOPQRSTUVWXYZabcdefghijklmnopqrstuvwxyz0123456789'\n",
    "id = 1\n",
    "# Generar 50 registros\n",
    "for _ in range(50):\n",
    "    # username, password, activation_key, reset_key, email, activated, created, updated\n",
    "    # Generar datos ficticios\n",
    "    username = fake.user_name()  # Genera un nombre de empresa\n",
    "    password = '123'  # Descripción aleatoria de hasta 200 caracteres\n",
    "    activation_key = ''.join(random.choices(characters, k=30))\n",
    "    reset_key = ''.join(random.choices(characters, k=30))\n",
    "    email = fake.email()\n",
    "    activated = random.randint(0,1)\n",
    "    created = fake.date_time_this_decade(before_now=True, after_now=False)  # Fecha de creación aleatoria\n",
    "    updated = created + datetime.timedelta(days=random.randint(1, 30))  # Fecha de actualización (al menos un día después de la creación)\n",
    "    # Formatear los valores a SQL\n",
    "    insert_statement = f\"INSERT INTO users (id, username, password, activation_key, reset_key, email, activated, created, updated) VALUES ({id}, '{username}', '{password}', '{activation_key}', '{reset_key}', '{email}', {activated}, '{created.strftime('%Y-%m-%d %H:%M:%S')}', '{updated.strftime('%Y-%m-%d %H:%M:%S')}');\"\n",
    "    id = id + 1\n",
    "    inserts.append(insert_statement)\n",
    "# Escribir todas las sentencias INSERT en un archivo SQL\n",
    "with open(\"insert_users.sql\", \"w\") as f:\n",
    "    f.write(\"\\n\".join(inserts))\n",
    "print(\"Generación de registros completada. Archivo 'insert_users.sql' creado.\")"
   ]
  }
 ],
 "metadata": {
  "kernelspec": {
   "display_name": "env",
   "language": "python",
   "name": "python3"
  },
  "language_info": {
   "codemirror_mode": {
    "name": "ipython",
    "version": 3
   },
   "file_extension": ".py",
   "mimetype": "text/x-python",
   "name": "python",
   "nbconvert_exporter": "python",
   "pygments_lexer": "ipython3",
   "version": "3.10.12"
  }
 },
 "nbformat": 4,
 "nbformat_minor": 2
}
